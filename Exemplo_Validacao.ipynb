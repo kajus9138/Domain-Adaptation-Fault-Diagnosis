{
 "cells": [
  {
   "cell_type": "markdown",
   "id": "ddde5c94",
   "metadata": {},
   "source": [
    "# Validação de Modelos"
   ]
  },
  {
   "cell_type": "markdown",
   "id": "8418b39a",
   "metadata": {},
   "source": [
    "Este jupyter é utilizado para carregar os modelos treinados. Uma matriz de confusão é gerada para a análise do desempenho do modelo em cada classe. O modelo carregado neste jupyter é o do modelo limite encontrado na configuração de DF -> DA: 2057 -> 3617 RPM, com imagens STFT geradas de sinais de vibração."
   ]
  },
  {
   "cell_type": "markdown",
   "id": "333b90be",
   "metadata": {},
   "source": [
    "## Importação de bibliotecas"
   ]
  },
  {
   "cell_type": "code",
   "execution_count": 1,
   "id": "f41a64a2",
   "metadata": {},
   "outputs": [],
   "source": [
    "import tensorflow as tf\n",
    "import numpy as np\n",
    "import os\n",
    "import matplotlib.pyplot as plt\n",
    "from PIL import Image\n",
    "from adapt.parameter_based import FineTuning\n",
    "import keras\n",
    "import adapt\n",
    "import seaborn as sns\n"
   ]
  },
  {
   "cell_type": "code",
   "execution_count": 2,
   "id": "f2424426",
   "metadata": {},
   "outputs": [],
   "source": [
    "from tensorflow.keras.applications.resnet50 import ResNet50\n",
    "from tensorflow.keras.applications.resnet50 import ResNet50\n",
    "from tensorflow.keras.models import Model\n",
    "from tensorflow.keras.layers import GlobalAveragePooling2D\n",
    "from tensorflow.keras.applications.resnet50 import preprocess_input, ResNet50\n",
    "from tensorflow.keras.models import Model, load_model\n",
    "from tensorflow.keras.layers import Input\n",
    "from sklearn.preprocessing import OneHotEncoder\n",
    "from sklearn.metrics import accuracy_score\n",
    "from tensorflow.keras.preprocessing.image import ImageDataGenerator\n",
    "from PIL import Image\n",
    "from sklearn.metrics import confusion_matrix"
   ]
  },
  {
   "cell_type": "markdown",
   "id": "d511dc01",
   "metadata": {},
   "source": [
    "## Funções utilizadas"
   ]
  },
  {
   "cell_type": "code",
   "execution_count": null,
   "id": "763e29e6",
   "metadata": {},
   "outputs": [],
   "source": [
    "def get_Xy(domain, path_to_folder= path):\n",
    "    \n",
    "    caminho_imagem = pasta + '/' + domain  + '/images/'\n",
    "    X = []\n",
    "    y = []\n",
    "\n",
    "    for r, d, f in os.walk(caminho_imagem):\n",
    "        for direct in d:\n",
    "            if not \".ipynb_checkpoints\" in direct:\n",
    "                for r, d, f in os.walk(os.path.join(caminho_imagem , direct)):\n",
    "                    for file in f:\n",
    "                        path_to_image = os.path.join(r, file)\n",
    "                        if not \".ipynb_checkpoints\" in caminho_imagem:\n",
    "                            image = Image.open(caminho_imagem)\n",
    "                            image = image.resize((224, 224), Image.ANTIALIAS)\n",
    "                            image = np.array(image, dtype=int)\n",
    "                            X.append(image)\n",
    "                            y.append(direct)\n",
    "    return X, y\n"
   ]
  },
  {
   "cell_type": "markdown",
   "id": "1341d2fe",
   "metadata": {},
   "source": [
    "## Carregamento das imagens de validação"
   ]
  },
  {
   "cell_type": "code",
   "execution_count": 7,
   "id": "f0b45425",
   "metadata": {},
   "outputs": [
    {
     "name": "stdout",
     "output_type": "stream",
     "text": [
      "X target shape: (3210, 224, 224, 3)\n"
     ]
    }
   ],
   "source": [
    "pasta = 'cole aqui o caminho para a pasta com o modelo salvo'\n",
    "\n",
    "Xt, yt = get_Xy(\"Validacao\")\n",
    "Xt = preprocess_input(np.stack(Xt))\n",
    "\n",
    "one = OneHotEncoder(sparse=False)\n",
    "one.fit(np.array(yt).reshape(-1, 1))\n",
    "yt_lab = one.transform(np.array(yt).reshape(-1, 1))\n",
    "\n",
    "print(\"X target shape: %s\"%str(Xt.shape))"
   ]
  },
  {
   "cell_type": "markdown",
   "id": "dea1c105",
   "metadata": {},
   "source": [
    "## Carregamento do modelo"
   ]
  },
  {
   "cell_type": "code",
   "execution_count": 8,
   "id": "b8526078",
   "metadata": {},
   "outputs": [],
   "source": [
    "mdd = tf.saved_model.load('cole aqui o caminho do modelo')"
   ]
  },
  {
   "cell_type": "markdown",
   "id": "e917546a",
   "metadata": {},
   "source": [
    "## Classificação das imagens de validação"
   ]
  },
  {
   "cell_type": "code",
   "execution_count": 9,
   "id": "b87b1a3e",
   "metadata": {},
   "outputs": [],
   "source": [
    "batch_size = 32  # Escolha o tamanho do lote que você deseja\n",
    "\n",
    "# Xt é o seu conjunto de dados de entrada\n",
    "\n",
    "num_samples = Xt.shape[0]\n",
    "num_batches = int(np.ceil(num_samples / batch_size))\n",
    "\n",
    "predictions = []\n",
    "\n",
    "for i in range(num_batches):\n",
    "    start_idx = i * batch_size\n",
    "    end_idx = min((i + 1) * batch_size, num_samples)\n",
    "    \n",
    "    batch_data = Xt[start_idx:end_idx]  # Seleciona um lote de dados\n",
    "    \n",
    "    batch_predictions = mdd.__call__(batch_data)  # Faz previsões para o lote\n",
    "    predictions.append(batch_predictions)\n",
    "\n",
    "# Combine todas as previsões em um único array\n",
    "all_predictions = np.vstack(predictions)\n"
   ]
  },
  {
   "cell_type": "code",
   "execution_count": 10,
   "id": "29b44032",
   "metadata": {},
   "outputs": [
    {
     "name": "stdout",
     "output_type": "stream",
     "text": [
      "Acurácia do modelo: 70.87%\n"
     ]
    }
   ],
   "source": [
    "\n",
    "# arredondando as previsões para as classes (0 ou 1)\n",
    "all_predictions = np.round(all_predictions)\n",
    "\n",
    "# calculando a acurácia do modelo\n",
    "accuracy = accuracy_score(yt_lab, all_predictions)\n",
    "\n",
    "print('Acurácia do modelo: {:.2%}'.format(accuracy))\n"
   ]
  },
  {
   "cell_type": "markdown",
   "id": "2b191bf3",
   "metadata": {},
   "source": [
    "## Geração da matriz de confusão"
   ]
  },
  {
   "cell_type": "code",
   "execution_count": 11,
   "id": "35ebdf51",
   "metadata": {},
   "outputs": [
    {
     "data": {
      "image/png": "[encoded data removed]",
      "text/plain": [
       "<Figure size 720x504 with 2 Axes>"
      ]
     },
     "metadata": {
      "needs_background": "light"
     },
     "output_type": "display_data"
    }
   ],
   "source": [
    "# Obtenção das classes reais e previstas\n",
    "y_true = np.argmax(yt_lab, axis=1)\n",
    "y_pred = np.argmax(all_predictions, axis=1)\n",
    "\n",
    "# Cálculo da matriz de confusão\n",
    "cm = confusion_matrix(y_true, y_pred)\n",
    "\n",
    "# Criação do mapa de cores\n",
    "cmap = sns.cubehelix_palette(light=1, as_cmap=True)\n",
    "\n",
    "# Plot da matriz de confusão\n",
    "plt.figure(figsize = (10,7))\n",
    "sns.heatmap(cm, annot=True,  fmt='g', \n",
    "            xticklabels=['DesaL H','Desal V','Desb','Norm','OVHBF','OVHCF','OVHORF','UNHBF','UNHCF','UNHORF'],\n",
    "            yticklabels=['DesaL H','Desal V','Desb','Norm','OVHBF','OVHCF','OVHORF','UNHBF','UNHCF','UNHORF'])\n",
    "\n",
    "plt.xlabel('Previsão')\n",
    "plt.ylabel('Real')\n",
    "plt.show()\n"
   ]
  }
 ],
 "metadata": {
  "kernelspec": {
   "display_name": "Python 3 (ipykernel)",
   "language": "python",
   "name": "python3"
  },
  "language_info": {
   "codemirror_mode": {
    "name": "ipython",
    "version": 3
   },
   "file_extension": ".py",
   "mimetype": "text/x-python",
   "name": "python",
   "nbconvert_exporter": "python",
   "pygments_lexer": "ipython3",
   "version": "3.11.4"
  }
 },
 "nbformat": 4,
 "nbformat_minor": 5
}
