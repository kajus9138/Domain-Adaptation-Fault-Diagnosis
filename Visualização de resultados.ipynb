{
 "cells": [
  {
   "cell_type": "markdown",
   "id": "eac53f73",
   "metadata": {},
   "source": [
    "# Visualização dos resultados"
   ]
  },
  {
   "cell_type": "markdown",
   "id": "79c44f55",
   "metadata": {},
   "source": [
    "## Importação de bibliotecas"
   ]
  },
  {
   "cell_type": "code",
   "execution_count": 9,
   "id": "224b78b5",
   "metadata": {},
   "outputs": [
    {
     "name": "stdout",
     "output_type": "stream",
     "text": [
      "Collecting chardet\n",
      "  Downloading chardet-5.0.0-py3-none-any.whl (193 kB)\n",
      "Installing collected packages: chardet\n",
      "Successfully installed chardet-5.0.0\n"
     ]
    }
   ],
   "source": [
    "!pip install chardet "
   ]
  },
  {
   "cell_type": "code",
   "execution_count": 30,
   "id": "7056e088",
   "metadata": {},
   "outputs": [],
   "source": [
    "import glob\n",
    "import pandas as pd\n",
    "import matplotlib.pyplot as plt\n",
    "from matplotlib.patches import Patch\n",
    "import chardet\n"
   ]
  },
  {
   "cell_type": "code",
   "execution_count": 46,
   "id": "0eceedf3",
   "metadata": {},
   "outputs": [],
   "source": [
    "\n",
    "with open(r'C:\\Users\\ksilva\\OneDrive - IPT\\dissertacao_transfer_learning\\planilhas/resultados.csv', 'rb') as f:\n",
    "    result = chardet.detect(f.read())\n",
    "\n",
    "df = pd.read_csv(r'C:\\Users\\ksilva\\OneDrive - IPT\\dissertacao_transfer_learning\\planilhas/resultados.csv', sep=';', index_col=\"Experimento\", encoding=result['encoding'])\n"
   ]
  },
  {
   "cell_type": "code",
   "execution_count": 47,
   "id": "2de06bad",
   "metadata": {
    "scrolled": true
   },
   "outputs": [],
   "source": [
    "#df = pd.read_csv(r'C:\\Users\\ksilva\\OneDrive - IPT\\dissertacao_transfer_learning\\planilhas/resultados.csv',sep=';', index_col=\"Experimento\")\n",
    "#df_vibracao = df.loc[\"Exp01\":\"Exp18\"].reset_index(drop=True)\n",
    "#df_som = df.loc[\"Exp19\":\"Exp36\"].reset_index(drop=True)\n",
    "df_vibracao = df.iloc[:18] \n",
    "df_som = df.iloc[18:]"
   ]
  },
  {
   "cell_type": "markdown",
   "id": "d2b04e19",
   "metadata": {},
   "source": [
    "# Vibração"
   ]
  },
  {
   "cell_type": "markdown",
   "id": "5573b7b2",
   "metadata": {},
   "source": [
    "# Baixa velocidade\n"
   ]
  },
  {
   "cell_type": "code",
   "execution_count": 48,
   "id": "611086ac",
   "metadata": {},
   "outputs": [
    {
     "name": "stderr",
     "output_type": "stream",
     "text": [
      "C:\\Users\\ksilva\\.conda\\envs\\env2\\lib\\site-packages\\ipykernel_launcher.py:2: SettingWithCopyWarning: \n",
      "A value is trying to be set on a copy of a slice from a DataFrame.\n",
      "Try using .loc[row_indexer,col_indexer] = value instead\n",
      "\n",
      "See the caveats in the documentation: https://pandas.pydata.org/pandas-docs/stable/user_guide/indexing.html#returning-a-view-versus-a-copy\n",
      "  \n"
     ]
    },
    {
     "data": {
      "text/html": [
       "<div>\n",
       "<style scoped>\n",
       "    .dataframe tbody tr th:only-of-type {\n",
       "        vertical-align: middle;\n",
       "    }\n",
       "\n",
       "    .dataframe tbody tr th {\n",
       "        vertical-align: top;\n",
       "    }\n",
       "\n",
       "    .dataframe thead th {\n",
       "        text-align: right;\n",
       "    }\n",
       "</style>\n",
       "<table border=\"1\" class=\"dataframe\">\n",
       "  <thead>\n",
       "    <tr style=\"text-align: right;\">\n",
       "      <th></th>\n",
       "      <th>DF -&gt; DA</th>\n",
       "      <th>Acurácia</th>\n",
       "    </tr>\n",
       "    <tr>\n",
       "      <th>Experimento</th>\n",
       "      <th></th>\n",
       "      <th></th>\n",
       "    </tr>\n",
       "  </thead>\n",
       "  <tbody>\n",
       "    <tr>\n",
       "      <th>Exp01</th>\n",
       "      <td>857 -&gt; 737</td>\n",
       "      <td>77.60</td>\n",
       "    </tr>\n",
       "    <tr>\n",
       "      <th>Exp04</th>\n",
       "      <td>737 -&gt; 857</td>\n",
       "      <td>75.73</td>\n",
       "    </tr>\n",
       "    <tr>\n",
       "      <th>Exp07</th>\n",
       "      <td>857 -&gt; 737</td>\n",
       "      <td>89.63</td>\n",
       "    </tr>\n",
       "    <tr>\n",
       "      <th>Exp10</th>\n",
       "      <td>737 -&gt; 857</td>\n",
       "      <td>95.11</td>\n",
       "    </tr>\n",
       "    <tr>\n",
       "      <th>Exp13</th>\n",
       "      <td>857 -&gt; 737</td>\n",
       "      <td>74.24</td>\n",
       "    </tr>\n",
       "    <tr>\n",
       "      <th>Exp16</th>\n",
       "      <td>737 -&gt; 857</td>\n",
       "      <td>80.84</td>\n",
       "    </tr>\n",
       "  </tbody>\n",
       "</table>\n",
       "</div>"
      ],
      "text/plain": [
       "               DF -> DA  Acurácia\n",
       "Experimento                      \n",
       "Exp01        857 -> 737     77.60\n",
       "Exp04        737 -> 857     75.73\n",
       "Exp07        857 -> 737     89.63\n",
       "Exp10        737 -> 857     95.11\n",
       "Exp13        857 -> 737     74.24\n",
       "Exp16        737 -> 857     80.84"
      ]
     },
     "execution_count": 48,
     "metadata": {},
     "output_type": "execute_result"
    }
   ],
   "source": [
    "df_baixa_velocidade_vb = df_vibracao[(df_vibracao[\"DF -> DA\"] == \"737 -> 857\") | (df_vibracao[\"DF -> DA\"] == \"857 -> 737\")]\n",
    "df_baixa_velocidade_vb[\"Acurácia\"] = df_baixa_velocidade_vb[\"Acurácia\"].str.replace(\",\", \".\").astype(float)\n",
    "df_baixa_velocidade_vb\n"
   ]
  },
  {
   "cell_type": "code",
   "execution_count": 49,
   "id": "14e69366",
   "metadata": {},
   "outputs": [
    {
     "data": {
      "image/png": "[encoded data removed]",
      "text/plain": [
       "<Figure size 432x288 with 1 Axes>"
      ]
     },
     "metadata": {
      "needs_background": "light"
     },
     "output_type": "display_data"
    }
   ],
   "source": [
    "fig, ax = plt.subplots()\n",
    "bars = plt.bar(df_baixa_velocidade_vb.index, df_baixa_velocidade_vb[\"Acurácia\"])\n",
    "\n",
    "# Define cores para as barras\n",
    "cores = ['darkorange', 'darkorange', 'darkblue', 'darkblue', 'gray', 'gray']\n",
    "\n",
    "# Define rótulos personalizados para o eixo x\n",
    "labels = ['Exp01\\n(857->737 RPM)', 'Exp04\\n(737->857 RPM)', 'Exp07\\n(857->737 RPM)', 'Exp10\\n(737->857 RPM)', 'Exp13\\n(857->737 RPM)', 'Exp16\\n(737->857 RPM)']\n",
    "\n",
    "# Define rótulos de cores para a legenda\n",
    "legend_labels = [Patch(color='darkorange', label='STFT'), Patch(color='darkblue', label='CWT'), Patch(color='gray', label='CWT P/B')]\n",
    "\n",
    "for i, bar in enumerate(bars):\n",
    "    bar.set_color(cores[i])\n",
    "\n",
    "# Cria uma legenda de cores\n",
    "plt.legend(handles=legend_labels)\n",
    "\n",
    "# Define os rótulos personalizados no eixo x\n",
    "plt.xticks(range(len(df_baixa_velocidade_vb.index)), labels, rotation=45, fontsize=9)\n",
    "\n",
    "plt.xlabel(\"Experimento\")\n",
    "plt.ylabel(\"Acurácia (%)\")\n",
    "#plt.title(\"Acurácia para DF->DA igual a 737->857 ou 857->737\")\n",
    "\n",
    "# Define o intervalo do eixo y de 0 a 100\n",
    "plt.yticks(range(0, 101, 10))  # Define os valores do eixo y de 0 a 100 com incremento de 10\n",
    "\n",
    "# ajusta posição da legenda para fora do gráfico\n",
    "plt.legend(handles=legend_labels, bbox_to_anchor=(1.05, 1), loc='upper left')\n",
    "#plt.ylim(0, 100)\n",
    "\n",
    "plt.show()\n"
   ]
  },
  {
   "cell_type": "markdown",
   "id": "b27649e8",
   "metadata": {},
   "source": [
    "# Média velocidade\n"
   ]
  },
  {
   "cell_type": "code",
   "execution_count": 50,
   "id": "a98b2da0",
   "metadata": {},
   "outputs": [
    {
     "name": "stderr",
     "output_type": "stream",
     "text": [
      "C:\\Users\\ksilva\\.conda\\envs\\env2\\lib\\site-packages\\ipykernel_launcher.py:2: SettingWithCopyWarning: \n",
      "A value is trying to be set on a copy of a slice from a DataFrame.\n",
      "Try using .loc[row_indexer,col_indexer] = value instead\n",
      "\n",
      "See the caveats in the documentation: https://pandas.pydata.org/pandas-docs/stable/user_guide/indexing.html#returning-a-view-versus-a-copy\n",
      "  \n"
     ]
    },
    {
     "data": {
      "text/html": [
       "<div>\n",
       "<style scoped>\n",
       "    .dataframe tbody tr th:only-of-type {\n",
       "        vertical-align: middle;\n",
       "    }\n",
       "\n",
       "    .dataframe tbody tr th {\n",
       "        vertical-align: top;\n",
       "    }\n",
       "\n",
       "    .dataframe thead th {\n",
       "        text-align: right;\n",
       "    }\n",
       "</style>\n",
       "<table border=\"1\" class=\"dataframe\">\n",
       "  <thead>\n",
       "    <tr style=\"text-align: right;\">\n",
       "      <th></th>\n",
       "      <th>DF -&gt; DA</th>\n",
       "      <th>Acurácia</th>\n",
       "    </tr>\n",
       "    <tr>\n",
       "      <th>Experimento</th>\n",
       "      <th></th>\n",
       "      <th></th>\n",
       "    </tr>\n",
       "  </thead>\n",
       "  <tbody>\n",
       "    <tr>\n",
       "      <th>Exp02</th>\n",
       "      <td>2177 -&gt; 2057</td>\n",
       "      <td>94.85</td>\n",
       "    </tr>\n",
       "    <tr>\n",
       "      <th>Exp05</th>\n",
       "      <td>2057 -&gt; 2177</td>\n",
       "      <td>91.87</td>\n",
       "    </tr>\n",
       "    <tr>\n",
       "      <th>Exp08</th>\n",
       "      <td>2177 -&gt; 2057</td>\n",
       "      <td>94.95</td>\n",
       "    </tr>\n",
       "    <tr>\n",
       "      <th>Exp11</th>\n",
       "      <td>2057 -&gt; 2177</td>\n",
       "      <td>95.36</td>\n",
       "    </tr>\n",
       "    <tr>\n",
       "      <th>Exp14</th>\n",
       "      <td>2177 -&gt; 2057</td>\n",
       "      <td>89.81</td>\n",
       "    </tr>\n",
       "    <tr>\n",
       "      <th>Exp17</th>\n",
       "      <td>2057 -&gt; 2177</td>\n",
       "      <td>93.18</td>\n",
       "    </tr>\n",
       "  </tbody>\n",
       "</table>\n",
       "</div>"
      ],
      "text/plain": [
       "                 DF -> DA  Acurácia\n",
       "Experimento                        \n",
       "Exp02        2177 -> 2057     94.85\n",
       "Exp05        2057 -> 2177     91.87\n",
       "Exp08        2177 -> 2057     94.95\n",
       "Exp11        2057 -> 2177     95.36\n",
       "Exp14        2177 -> 2057     89.81\n",
       "Exp17        2057 -> 2177     93.18"
      ]
     },
     "execution_count": 50,
     "metadata": {},
     "output_type": "execute_result"
    }
   ],
   "source": [
    "df_media_velocidade_vb = df_vibracao[(df_vibracao[\"DF -> DA\"] == \"2057 -> 2177\") | (df_vibracao[\"DF -> DA\"] == \"2177 -> 2057\")]\n",
    "df_media_velocidade_vb[\"Acurácia\"] = df_media_velocidade_vb[\"Acurácia\"].str.replace(\",\", \".\").astype(float)\n",
    "df_media_velocidade_vb\n"
   ]
  },
  {
   "cell_type": "code",
   "execution_count": 51,
   "id": "02bcf545",
   "metadata": {},
   "outputs": [
    {
     "data": {
      "image/png": "[encoded data removed]",
      "text/plain": [
       "<Figure size 432x288 with 1 Axes>"
      ]
     },
     "metadata": {
      "needs_background": "light"
     },
     "output_type": "display_data"
    }
   ],
   "source": [
    "fig, ax = plt.subplots()\n",
    "bars = plt.bar(df_media_velocidade_vb.index, df_media_velocidade_vb[\"Acurácia\"])\n",
    "\n",
    "# Define cores para as barras\n",
    "cores = ['darkorange', 'darkorange', 'darkblue', 'darkblue', 'gray', 'gray']\n",
    "\n",
    "# Define rótulos personalizados para o eixo x\n",
    "labels = ['Exp02\\n(2177->2057 RPM)', 'Exp05\\n(2057->2177 RPM)', 'Exp08\\n(2177->2057 RPM)', 'Exp11\\n(2057->2177 RPM)', 'Exp14\\n(2177->2057 RPM)', 'Exp17\\n(2057->2177 RPM)']\n",
    "\n",
    "# Define rótulos de cores para a legenda\n",
    "legend_labels = [Patch(color='darkorange', label='STFT'), Patch(color='darkblue', label='CWT'), Patch(color='gray', label='CWT P/B')]\n",
    "\n",
    "for i, bar in enumerate(bars):\n",
    "    bar.set_color(cores[i])\n",
    "\n",
    "# Cria uma legenda de cores\n",
    "plt.legend(handles=legend_labels)\n",
    "\n",
    "# Define os rótulos personalizados no eixo x\n",
    "plt.xticks(range(len(df_baixa_velocidade_vb.index)), labels, rotation=45, fontsize=9)\n",
    "\n",
    "plt.xlabel(\"Experimento\")\n",
    "plt.ylabel(\"Acurácia (%)\")\n",
    "#plt.title(\"Acurácia para DF->DA igual a 737->857 ou 857->737\")\n",
    "\n",
    "# Define o intervalo do eixo y de 0 a 100\n",
    "plt.yticks(range(0, 101, 10))  # Define os valores do eixo y de 0 a 100 com incremento de 10\n",
    "\n",
    "# ajusta posição da legenda para fora do gráfico\n",
    "plt.legend(handles=legend_labels, bbox_to_anchor=(1.05, 1), loc='upper left')\n",
    "\n",
    "#plt.ylim(0, 100)\n",
    "\n",
    "plt.show()\n"
   ]
  },
  {
   "cell_type": "markdown",
   "id": "3eb11ce8",
   "metadata": {},
   "source": [
    "# Alta velocidade"
   ]
  },
  {
   "cell_type": "code",
   "execution_count": 52,
   "id": "47ad55b2",
   "metadata": {},
   "outputs": [
    {
     "name": "stderr",
     "output_type": "stream",
     "text": [
      "C:\\Users\\ksilva\\.conda\\envs\\env2\\lib\\site-packages\\ipykernel_launcher.py:2: SettingWithCopyWarning: \n",
      "A value is trying to be set on a copy of a slice from a DataFrame.\n",
      "Try using .loc[row_indexer,col_indexer] = value instead\n",
      "\n",
      "See the caveats in the documentation: https://pandas.pydata.org/pandas-docs/stable/user_guide/indexing.html#returning-a-view-versus-a-copy\n",
      "  \n"
     ]
    },
    {
     "data": {
      "text/html": [
       "<div>\n",
       "<style scoped>\n",
       "    .dataframe tbody tr th:only-of-type {\n",
       "        vertical-align: middle;\n",
       "    }\n",
       "\n",
       "    .dataframe tbody tr th {\n",
       "        vertical-align: top;\n",
       "    }\n",
       "\n",
       "    .dataframe thead th {\n",
       "        text-align: right;\n",
       "    }\n",
       "</style>\n",
       "<table border=\"1\" class=\"dataframe\">\n",
       "  <thead>\n",
       "    <tr style=\"text-align: right;\">\n",
       "      <th></th>\n",
       "      <th>DF -&gt; DA</th>\n",
       "      <th>Acurácia</th>\n",
       "    </tr>\n",
       "    <tr>\n",
       "      <th>Experimento</th>\n",
       "      <th></th>\n",
       "      <th></th>\n",
       "    </tr>\n",
       "  </thead>\n",
       "  <tbody>\n",
       "    <tr>\n",
       "      <th>Exp03</th>\n",
       "      <td>3617 -&gt; 3497</td>\n",
       "      <td>98.35</td>\n",
       "    </tr>\n",
       "    <tr>\n",
       "      <th>Exp06</th>\n",
       "      <td>3497 -&gt; 3617</td>\n",
       "      <td>98.41</td>\n",
       "    </tr>\n",
       "    <tr>\n",
       "      <th>Exp09</th>\n",
       "      <td>3617 -&gt; 3497</td>\n",
       "      <td>97.76</td>\n",
       "    </tr>\n",
       "    <tr>\n",
       "      <th>Exp12</th>\n",
       "      <td>3497 -&gt; 3617</td>\n",
       "      <td>99.56</td>\n",
       "    </tr>\n",
       "    <tr>\n",
       "      <th>Exp15</th>\n",
       "      <td>3617 -&gt; 3497</td>\n",
       "      <td>95.26</td>\n",
       "    </tr>\n",
       "    <tr>\n",
       "      <th>Exp18</th>\n",
       "      <td>3497 -&gt; 3617</td>\n",
       "      <td>97.13</td>\n",
       "    </tr>\n",
       "  </tbody>\n",
       "</table>\n",
       "</div>"
      ],
      "text/plain": [
       "                 DF -> DA  Acurácia\n",
       "Experimento                        \n",
       "Exp03        3617 -> 3497     98.35\n",
       "Exp06        3497 -> 3617     98.41\n",
       "Exp09        3617 -> 3497     97.76\n",
       "Exp12        3497 -> 3617     99.56\n",
       "Exp15        3617 -> 3497     95.26\n",
       "Exp18        3497 -> 3617     97.13"
      ]
     },
     "execution_count": 52,
     "metadata": {},
     "output_type": "execute_result"
    }
   ],
   "source": [
    "df_alta_velocidade_vb = df_vibracao[(df_vibracao[\"DF -> DA\"] == \"3497 -> 3617\") | (df_vibracao[\"DF -> DA\"] == \"3617 -> 3497\")]\n",
    "df_alta_velocidade_vb[\"Acurácia\"] = df_alta_velocidade_vb[\"Acurácia\"].str.replace(\",\", \".\").astype(float)\n",
    "df_alta_velocidade_vb\n"
   ]
  },
  {
   "cell_type": "code",
   "execution_count": 53,
   "id": "71b9805d",
   "metadata": {},
   "outputs": [
    {
     "data": {
      "image/png": "[encoded data removed]",
      "text/plain": [
       "<Figure size 432x288 with 1 Axes>"
      ]
     },
     "metadata": {
      "needs_background": "light"
     },
     "output_type": "display_data"
    }
   ],
   "source": [
    "fig, ax = plt.subplots()\n",
    "bars = plt.bar(df_media_velocidade_vb.index, df_media_velocidade_vb[\"Acurácia\"])\n",
    "\n",
    "# Define cores para as barras\n",
    "cores = ['darkorange', 'darkorange', 'darkblue', 'darkblue', 'gray', 'gray']\n",
    "\n",
    "# Define rótulos personalizados para o eixo x\n",
    "labels = ['Exp03\\n(3617->3497 RPM)', 'Exp06\\n(3497->3617 RPM)', 'Exp09\\n(3617->3497 RPM)', 'Exp12\\n(3497->3617 RPM)', 'Exp15\\n(3617->3497 RPM)', 'Exp18\\n(3497->3617 RPM)']\n",
    "\n",
    "# Define rótulos de cores para a legenda\n",
    "legend_labels = [Patch(color='darkorange', label='STFT'), Patch(color='darkblue', label='CWT'), Patch(color='gray', label='CWT P/B')]\n",
    "\n",
    "for i, bar in enumerate(bars):\n",
    "    bar.set_color(cores[i])\n",
    "\n",
    "# Cria uma legenda de cores\n",
    "plt.legend(handles=legend_labels)\n",
    "\n",
    "# Define os rótulos personalizados no eixo x\n",
    "plt.xticks(range(len(df_baixa_velocidade_vb.index)), labels, rotation=45, fontsize=9)\n",
    "\n",
    "plt.xlabel(\"Experimento\")\n",
    "plt.ylabel(\"Acurácia (%)\")\n",
    "#plt.title(\"Acurácia para DF->DA igual a 737->857 ou 857->737\")\n",
    "\n",
    "# Define o intervalo do eixo y de 0 a 100\n",
    "plt.yticks(range(0, 101, 10))  # Define os valores do eixo y de 0 a 100 com incremento de 10\n",
    "\n",
    "# ajusta posição da legenda para fora do gráfico\n",
    "plt.legend(handles=legend_labels, bbox_to_anchor=(1.05, 1), loc='upper left')\n",
    "\n",
    "#plt.ylim(0, 100)\n",
    "\n",
    "plt.show()\n"
   ]
  },
  {
   "cell_type": "markdown",
   "id": "61e2ecc9",
   "metadata": {},
   "source": [
    "# Som\n"
   ]
  },
  {
   "cell_type": "markdown",
   "id": "8296bf46",
   "metadata": {},
   "source": [
    "# Baixa velocidade\n"
   ]
  },
  {
   "cell_type": "code",
   "execution_count": 54,
   "id": "e11d11ee",
   "metadata": {},
   "outputs": [
    {
     "name": "stderr",
     "output_type": "stream",
     "text": [
      "C:\\Users\\ksilva\\.conda\\envs\\env2\\lib\\site-packages\\ipykernel_launcher.py:2: SettingWithCopyWarning: \n",
      "A value is trying to be set on a copy of a slice from a DataFrame.\n",
      "Try using .loc[row_indexer,col_indexer] = value instead\n",
      "\n",
      "See the caveats in the documentation: https://pandas.pydata.org/pandas-docs/stable/user_guide/indexing.html#returning-a-view-versus-a-copy\n",
      "  \n"
     ]
    },
    {
     "data": {
      "text/html": [
       "<div>\n",
       "<style scoped>\n",
       "    .dataframe tbody tr th:only-of-type {\n",
       "        vertical-align: middle;\n",
       "    }\n",
       "\n",
       "    .dataframe tbody tr th {\n",
       "        vertical-align: top;\n",
       "    }\n",
       "\n",
       "    .dataframe thead th {\n",
       "        text-align: right;\n",
       "    }\n",
       "</style>\n",
       "<table border=\"1\" class=\"dataframe\">\n",
       "  <thead>\n",
       "    <tr style=\"text-align: right;\">\n",
       "      <th></th>\n",
       "      <th>DF -&gt; DA</th>\n",
       "      <th>Acurácia</th>\n",
       "    </tr>\n",
       "    <tr>\n",
       "      <th>Experimento</th>\n",
       "      <th></th>\n",
       "      <th></th>\n",
       "    </tr>\n",
       "  </thead>\n",
       "  <tbody>\n",
       "    <tr>\n",
       "      <th>Exp19</th>\n",
       "      <td>857 -&gt; 737</td>\n",
       "      <td>39.91</td>\n",
       "    </tr>\n",
       "    <tr>\n",
       "      <th>Exp22</th>\n",
       "      <td>737 -&gt; 857</td>\n",
       "      <td>35.36</td>\n",
       "    </tr>\n",
       "    <tr>\n",
       "      <th>Exp25</th>\n",
       "      <td>857 -&gt; 737</td>\n",
       "      <td>73.71</td>\n",
       "    </tr>\n",
       "    <tr>\n",
       "      <th>Exp28</th>\n",
       "      <td>737 -&gt; 857</td>\n",
       "      <td>85.30</td>\n",
       "    </tr>\n",
       "    <tr>\n",
       "      <th>Exp31</th>\n",
       "      <td>857 -&gt; 737</td>\n",
       "      <td>44.08</td>\n",
       "    </tr>\n",
       "    <tr>\n",
       "      <th>Exp34</th>\n",
       "      <td>737 -&gt; 857</td>\n",
       "      <td>10.00</td>\n",
       "    </tr>\n",
       "  </tbody>\n",
       "</table>\n",
       "</div>"
      ],
      "text/plain": [
       "               DF -> DA  Acurácia\n",
       "Experimento                      \n",
       "Exp19        857 -> 737     39.91\n",
       "Exp22        737 -> 857     35.36\n",
       "Exp25        857 -> 737     73.71\n",
       "Exp28        737 -> 857     85.30\n",
       "Exp31        857 -> 737     44.08\n",
       "Exp34        737 -> 857     10.00"
      ]
     },
     "execution_count": 54,
     "metadata": {},
     "output_type": "execute_result"
    }
   ],
   "source": [
    "df_baixa_velocidade_som = df_som[(df_som[\"DF -> DA\"] == \"737 -> 857\") | (df_som[\"DF -> DA\"] == \"857 -> 737\")]\n",
    "df_baixa_velocidade_som[\"Acurácia\"] = df_baixa_velocidade_som[\"Acurácia\"].str.replace(\",\", \".\").astype(float)\n",
    "df_baixa_velocidade_som\n"
   ]
  },
  {
   "cell_type": "code",
   "execution_count": 55,
   "id": "b0ea6f0c",
   "metadata": {},
   "outputs": [
    {
     "data": {
      "image/png": "[encoded data removed]",
      "text/plain": [
       "<Figure size 432x288 with 1 Axes>"
      ]
     },
     "metadata": {
      "needs_background": "light"
     },
     "output_type": "display_data"
    }
   ],
   "source": [
    "fig, ax = plt.subplots()\n",
    "bars = plt.bar(df_baixa_velocidade_som.index, df_baixa_velocidade_som[\"Acurácia\"])\n",
    "\n",
    "# Define cores para as barras\n",
    "cores = ['darkorange', 'darkorange', 'darkblue', 'darkblue', 'gray', 'gray']\n",
    "\n",
    "# Define rótulos personalizados para o eixo x\n",
    "labels = ['Exp19\\n(857->737 RPM)', 'Exp22\\n(737->857 RPM)', 'Exp25\\n(857->737 RPM)', 'Exp28\\n(737->857 RPM)', 'Exp31\\n(857->737 RPM)', 'Exp34\\n(737->857 RPM)']\n",
    "\n",
    "# Define rótulos de cores para a legenda\n",
    "legend_labels = [Patch(color='darkorange', label='STFT'), Patch(color='darkblue', label='CWT'), Patch(color='gray', label='CWT P/B')]\n",
    "\n",
    "for i, bar in enumerate(bars):\n",
    "    bar.set_color(cores[i])\n",
    "\n",
    "# Cria uma legenda de cores\n",
    "plt.legend(handles=legend_labels)\n",
    "\n",
    "# Define os rótulos personalizados no eixo x\n",
    "plt.xticks(range(len(df_baixa_velocidade_som.index)), labels, rotation=45, fontsize=9)\n",
    "\n",
    "plt.xlabel(\"Experimento\")\n",
    "plt.ylabel(\"Acurácia (%)\")\n",
    "#plt.title(\"Acurácia para DF->DA igual a 737->857 ou 857->737\")\n",
    "\n",
    "# Define o intervalo do eixo y de 0 a 100\n",
    "plt.yticks(range(0, 101, 10))  # Define os valores do eixo y de 0 a 100 com incremento de 10\n",
    "\n",
    "# ajusta posição da legenda para fora do gráfico\n",
    "plt.legend(handles=legend_labels, bbox_to_anchor=(1.05, 1), loc='upper left')\n",
    "#plt.ylim(0, 100)\n",
    "\n",
    "plt.show()\n"
   ]
  },
  {
   "cell_type": "markdown",
   "id": "71f29708",
   "metadata": {},
   "source": [
    "# Média velocidade"
   ]
  },
  {
   "cell_type": "code",
   "execution_count": 56,
   "id": "0523c4a7",
   "metadata": {},
   "outputs": [
    {
     "name": "stderr",
     "output_type": "stream",
     "text": [
      "C:\\Users\\ksilva\\.conda\\envs\\env2\\lib\\site-packages\\ipykernel_launcher.py:2: SettingWithCopyWarning: \n",
      "A value is trying to be set on a copy of a slice from a DataFrame.\n",
      "Try using .loc[row_indexer,col_indexer] = value instead\n",
      "\n",
      "See the caveats in the documentation: https://pandas.pydata.org/pandas-docs/stable/user_guide/indexing.html#returning-a-view-versus-a-copy\n",
      "  \n"
     ]
    },
    {
     "data": {
      "text/html": [
       "<div>\n",
       "<style scoped>\n",
       "    .dataframe tbody tr th:only-of-type {\n",
       "        vertical-align: middle;\n",
       "    }\n",
       "\n",
       "    .dataframe tbody tr th {\n",
       "        vertical-align: top;\n",
       "    }\n",
       "\n",
       "    .dataframe thead th {\n",
       "        text-align: right;\n",
       "    }\n",
       "</style>\n",
       "<table border=\"1\" class=\"dataframe\">\n",
       "  <thead>\n",
       "    <tr style=\"text-align: right;\">\n",
       "      <th></th>\n",
       "      <th>DF -&gt; DA</th>\n",
       "      <th>Acurácia</th>\n",
       "    </tr>\n",
       "    <tr>\n",
       "      <th>Experimento</th>\n",
       "      <th></th>\n",
       "      <th></th>\n",
       "    </tr>\n",
       "  </thead>\n",
       "  <tbody>\n",
       "    <tr>\n",
       "      <th>Exp20</th>\n",
       "      <td>2177 -&gt; 2057</td>\n",
       "      <td>34.52</td>\n",
       "    </tr>\n",
       "    <tr>\n",
       "      <th>Exp23</th>\n",
       "      <td>2057 -&gt; 2177</td>\n",
       "      <td>36.04</td>\n",
       "    </tr>\n",
       "    <tr>\n",
       "      <th>Exp26</th>\n",
       "      <td>2177 -&gt; 2057</td>\n",
       "      <td>96.23</td>\n",
       "    </tr>\n",
       "    <tr>\n",
       "      <th>Exp29</th>\n",
       "      <td>2057 -&gt; 2177</td>\n",
       "      <td>91.25</td>\n",
       "    </tr>\n",
       "    <tr>\n",
       "      <th>Exp32</th>\n",
       "      <td>2177 -&gt; 2057</td>\n",
       "      <td>10.00</td>\n",
       "    </tr>\n",
       "    <tr>\n",
       "      <th>Exp35</th>\n",
       "      <td>2057 -&gt; 2177</td>\n",
       "      <td>10.00</td>\n",
       "    </tr>\n",
       "  </tbody>\n",
       "</table>\n",
       "</div>"
      ],
      "text/plain": [
       "                 DF -> DA  Acurácia\n",
       "Experimento                        \n",
       "Exp20        2177 -> 2057     34.52\n",
       "Exp23        2057 -> 2177     36.04\n",
       "Exp26        2177 -> 2057     96.23\n",
       "Exp29        2057 -> 2177     91.25\n",
       "Exp32        2177 -> 2057     10.00\n",
       "Exp35        2057 -> 2177     10.00"
      ]
     },
     "execution_count": 56,
     "metadata": {},
     "output_type": "execute_result"
    }
   ],
   "source": [
    "df_media_velocidade_som = df_som[(df_som[\"DF -> DA\"] == \"2177 -> 2057\") | (df_som[\"DF -> DA\"] == \"2057 -> 2177\")]\n",
    "df_media_velocidade_som[\"Acurácia\"] = df_media_velocidade_som[\"Acurácia\"].str.replace(\",\", \".\").astype(float)\n",
    "df_media_velocidade_som\n"
   ]
  },
  {
   "cell_type": "code",
   "execution_count": 57,
   "id": "6b9e08a4",
   "metadata": {},
   "outputs": [
    {
     "data": {
      "image/png": "[encoded data removed]",
      "text/plain": [
       "<Figure size 432x288 with 1 Axes>"
      ]
     },
     "metadata": {
      "needs_background": "light"
     },
     "output_type": "display_data"
    }
   ],
   "source": [
    "fig, ax = plt.subplots()\n",
    "bars = plt.bar(df_media_velocidade_som.index, df_media_velocidade_som[\"Acurácia\"])\n",
    "\n",
    "# Define cores para as barras\n",
    "cores = ['darkorange', 'darkorange', 'darkblue', 'darkblue', 'gray', 'gray']\n",
    "\n",
    "# Define rótulos personalizados para o eixo x\n",
    "labels = ['Exp20\\n(2177->2057 RPM)', 'Exp23\\n(2057->2177 RPM)', 'Exp26\\n(2177->2057 RPM)', 'Exp29\\n(2057->2177 RPM)', 'Exp32\\n(2177->2057 RPM)', 'Exp35\\n(2057->2177 RPM)']\n",
    "\n",
    "# Define rótulos de cores para a legenda\n",
    "legend_labels = [Patch(color='darkorange', label='STFT'), Patch(color='darkblue', label='CWT'), Patch(color='gray', label='CWT P/B')]\n",
    "\n",
    "for i, bar in enumerate(bars):\n",
    "    bar.set_color(cores[i])\n",
    "\n",
    "# Cria uma legenda de cores\n",
    "plt.legend(handles=legend_labels)\n",
    "\n",
    "# Define os rótulos personalizados no eixo x\n",
    "plt.xticks(range(len(df_media_velocidade_som.index)), labels, rotation=45, fontsize=9)\n",
    "\n",
    "plt.xlabel(\"Experimento\")\n",
    "plt.ylabel(\"Acurácia (%)\")\n",
    "#plt.title(\"Acurácia para DF->DA igual a 737->857 ou 857->737\")\n",
    "\n",
    "# Define o intervalo do eixo y de 0 a 100\n",
    "plt.yticks(range(0, 101, 10))  # Define os valores do eixo y de 0 a 100 com incremento de 10\n",
    "\n",
    "# ajusta posição da legenda para fora do gráfico\n",
    "plt.legend(handles=legend_labels, bbox_to_anchor=(1.05, 1), loc='upper left')\n",
    "#plt.ylim(0, 100)\n",
    "\n",
    "plt.show()\n"
   ]
  },
  {
   "cell_type": "markdown",
   "id": "d6ca9442",
   "metadata": {},
   "source": [
    "# Alta velocidade"
   ]
  },
  {
   "cell_type": "code",
   "execution_count": 58,
   "id": "e1b3321b",
   "metadata": {},
   "outputs": [
    {
     "name": "stderr",
     "output_type": "stream",
     "text": [
      "C:\\Users\\ksilva\\.conda\\envs\\env2\\lib\\site-packages\\ipykernel_launcher.py:2: SettingWithCopyWarning: \n",
      "A value is trying to be set on a copy of a slice from a DataFrame.\n",
      "Try using .loc[row_indexer,col_indexer] = value instead\n",
      "\n",
      "See the caveats in the documentation: https://pandas.pydata.org/pandas-docs/stable/user_guide/indexing.html#returning-a-view-versus-a-copy\n",
      "  \n"
     ]
    },
    {
     "data": {
      "text/html": [
       "<div>\n",
       "<style scoped>\n",
       "    .dataframe tbody tr th:only-of-type {\n",
       "        vertical-align: middle;\n",
       "    }\n",
       "\n",
       "    .dataframe tbody tr th {\n",
       "        vertical-align: top;\n",
       "    }\n",
       "\n",
       "    .dataframe thead th {\n",
       "        text-align: right;\n",
       "    }\n",
       "</style>\n",
       "<table border=\"1\" class=\"dataframe\">\n",
       "  <thead>\n",
       "    <tr style=\"text-align: right;\">\n",
       "      <th></th>\n",
       "      <th>DF -&gt; DA</th>\n",
       "      <th>Acurácia</th>\n",
       "    </tr>\n",
       "    <tr>\n",
       "      <th>Experimento</th>\n",
       "      <th></th>\n",
       "      <th></th>\n",
       "    </tr>\n",
       "  </thead>\n",
       "  <tbody>\n",
       "    <tr>\n",
       "      <th>Exp21</th>\n",
       "      <td>3617 -&gt; 3497</td>\n",
       "      <td>38.94</td>\n",
       "    </tr>\n",
       "    <tr>\n",
       "      <th>Exp24</th>\n",
       "      <td>3497 -&gt; 3617</td>\n",
       "      <td>48.19</td>\n",
       "    </tr>\n",
       "    <tr>\n",
       "      <th>Exp27</th>\n",
       "      <td>3617 -&gt; 3497</td>\n",
       "      <td>95.98</td>\n",
       "    </tr>\n",
       "    <tr>\n",
       "      <th>Exp30</th>\n",
       "      <td>3497 -&gt; 3617</td>\n",
       "      <td>91.03</td>\n",
       "    </tr>\n",
       "    <tr>\n",
       "      <th>Exp33</th>\n",
       "      <td>3617 -&gt; 3497</td>\n",
       "      <td>10.00</td>\n",
       "    </tr>\n",
       "    <tr>\n",
       "      <th>Exp36</th>\n",
       "      <td>3497 -&gt; 3617</td>\n",
       "      <td>10.00</td>\n",
       "    </tr>\n",
       "  </tbody>\n",
       "</table>\n",
       "</div>"
      ],
      "text/plain": [
       "                 DF -> DA  Acurácia\n",
       "Experimento                        \n",
       "Exp21        3617 -> 3497     38.94\n",
       "Exp24        3497 -> 3617     48.19\n",
       "Exp27        3617 -> 3497     95.98\n",
       "Exp30        3497 -> 3617     91.03\n",
       "Exp33        3617 -> 3497     10.00\n",
       "Exp36        3497 -> 3617     10.00"
      ]
     },
     "execution_count": 58,
     "metadata": {},
     "output_type": "execute_result"
    }
   ],
   "source": [
    "df_alta_velocidade_som = df_som[(df_som[\"DF -> DA\"] == \"3617 -> 3497\") | (df_som[\"DF -> DA\"] == \"3497 -> 3617\")]\n",
    "df_alta_velocidade_som[\"Acurácia\"] = df_alta_velocidade_som[\"Acurácia\"].str.replace(\",\", \".\").astype(float)\n",
    "df_alta_velocidade_som\n"
   ]
  },
  {
   "cell_type": "code",
   "execution_count": 59,
   "id": "e457b3e6",
   "metadata": {},
   "outputs": [
    {
     "data": {
      "image/png": "[encoded data removed]",
      "text/plain": [
       "<Figure size 432x288 with 1 Axes>"
      ]
     },
     "metadata": {
      "needs_background": "light"
     },
     "output_type": "display_data"
    }
   ],
   "source": [
    "fig, ax = plt.subplots()\n",
    "bars = plt.bar(df_alta_velocidade_som.index, df_alta_velocidade_som[\"Acurácia\"])\n",
    "\n",
    "# Define cores para as barras\n",
    "cores = ['darkorange', 'darkorange', 'darkblue', 'darkblue', 'gray', 'gray']\n",
    "\n",
    "# Define rótulos personalizados para o eixo x\n",
    "labels = ['Exp21\\n(3617->3497 RPM)', 'Exp24\\n(3497->3617 RPM)', 'Exp27\\n(3617->3497 RPM)', 'Exp30\\n(3497->3617 RPM)', 'Exp33\\n(3617->3497 RPM)', 'Exp36\\n(3497->3617 RPM)']\n",
    "\n",
    "# Define rótulos de cores para a legenda\n",
    "legend_labels = [Patch(color='darkorange', label='STFT'), Patch(color='darkblue', label='CWT'), Patch(color='gray', label='CWT P/B')]\n",
    "\n",
    "for i, bar in enumerate(bars):\n",
    "    bar.set_color(cores[i])\n",
    "\n",
    "# Cria uma legenda de cores\n",
    "plt.legend(handles=legend_labels)\n",
    "\n",
    "# Define os rótulos personalizados no eixo x\n",
    "plt.xticks(range(len(df_alta_velocidade_som.index)), labels, rotation=45, fontsize=9)\n",
    "\n",
    "plt.xlabel(\"Experimento\")\n",
    "plt.ylabel(\"Acurácia (%)\")\n",
    "#plt.title(\"Acurácia para DF->DA igual a 737->857 ou 857->737\")\n",
    "\n",
    "# Define o intervalo do eixo y de 0 a 100\n",
    "plt.yticks(range(0, 101, 10))  # Define os valores do eixo y de 0 a 100 com incremento de 10\n",
    "\n",
    "# ajusta posição da legenda para fora do gráfico\n",
    "plt.legend(handles=legend_labels, bbox_to_anchor=(1.05, 1), loc='upper left')\n",
    "#plt.ylim(0, 100)\n",
    "\n",
    "plt.show()\n"
   ]
  },
  {
   "cell_type": "markdown",
   "id": "174545f1",
   "metadata": {},
   "source": [
    "# Comparação Vibração / Som\n"
   ]
  },
  {
   "cell_type": "code",
   "execution_count": 70,
   "id": "76911431",
   "metadata": {},
   "outputs": [
    {
     "data": {
      "text/html": [
       "<div>\n",
       "<style scoped>\n",
       "    .dataframe tbody tr th:only-of-type {\n",
       "        vertical-align: middle;\n",
       "    }\n",
       "\n",
       "    .dataframe tbody tr th {\n",
       "        vertical-align: top;\n",
       "    }\n",
       "\n",
       "    .dataframe thead th {\n",
       "        text-align: right;\n",
       "    }\n",
       "</style>\n",
       "<table border=\"1\" class=\"dataframe\">\n",
       "  <thead>\n",
       "    <tr style=\"text-align: right;\">\n",
       "      <th></th>\n",
       "      <th>Sinal</th>\n",
       "      <th>Imagem</th>\n",
       "      <th>Acurácia</th>\n",
       "    </tr>\n",
       "  </thead>\n",
       "  <tbody>\n",
       "    <tr>\n",
       "      <th>0</th>\n",
       "      <td>Vibracao</td>\n",
       "      <td>STFT</td>\n",
       "      <td>89.46</td>\n",
       "    </tr>\n",
       "    <tr>\n",
       "      <th>1</th>\n",
       "      <td>Vibracao</td>\n",
       "      <td>CWT (RGB)</td>\n",
       "      <td>95.39</td>\n",
       "    </tr>\n",
       "    <tr>\n",
       "      <th>2</th>\n",
       "      <td>Vibracao</td>\n",
       "      <td>CWT (P/B)</td>\n",
       "      <td>88.41</td>\n",
       "    </tr>\n",
       "    <tr>\n",
       "      <th>3</th>\n",
       "      <td>Som</td>\n",
       "      <td>STFT</td>\n",
       "      <td>39.65</td>\n",
       "    </tr>\n",
       "    <tr>\n",
       "      <th>4</th>\n",
       "      <td>Som</td>\n",
       "      <td>CWT (RGB)</td>\n",
       "      <td>88.91</td>\n",
       "    </tr>\n",
       "    <tr>\n",
       "      <th>5</th>\n",
       "      <td>Som</td>\n",
       "      <td>CWT (P/B)</td>\n",
       "      <td>13.04</td>\n",
       "    </tr>\n",
       "  </tbody>\n",
       "</table>\n",
       "</div>"
      ],
      "text/plain": [
       "      Sinal     Imagem  Acurácia\n",
       "0  Vibracao       STFT     89.46\n",
       "1  Vibracao  CWT (RGB)     95.39\n",
       "2  Vibracao  CWT (P/B)     88.41\n",
       "3       Som       STFT     39.65\n",
       "4       Som  CWT (RGB)     88.91\n",
       "5       Som  CWT (P/B)     13.04"
      ]
     },
     "execution_count": 70,
     "metadata": {},
     "output_type": "execute_result"
    }
   ],
   "source": [
    "\n",
    "with open(r'C:\\Users\\ksilva\\OneDrive - IPT\\dissertacao_transfer_learning\\planilhas/resultados_comp.csv', 'rb') as f:\n",
    "    result = chardet.detect(f.read())\n",
    "\n",
    "df_comp = pd.read_csv(r'C:\\Users\\ksilva\\OneDrive - IPT\\dissertacao_transfer_learning\\planilhas/resultados_comp.csv', sep=';',  encoding=result['encoding'])\n",
    "df_comp"
   ]
  },
  {
   "cell_type": "code",
   "execution_count": 71,
   "id": "0eeb38b1",
   "metadata": {
    "scrolled": true
   },
   "outputs": [
    {
     "data": {
      "text/html": [
       "<div>\n",
       "<style scoped>\n",
       "    .dataframe tbody tr th:only-of-type {\n",
       "        vertical-align: middle;\n",
       "    }\n",
       "\n",
       "    .dataframe tbody tr th {\n",
       "        vertical-align: top;\n",
       "    }\n",
       "\n",
       "    .dataframe thead th {\n",
       "        text-align: right;\n",
       "    }\n",
       "</style>\n",
       "<table border=\"1\" class=\"dataframe\">\n",
       "  <thead>\n",
       "    <tr style=\"text-align: right;\">\n",
       "      <th></th>\n",
       "      <th>Sinal</th>\n",
       "      <th>Imagem</th>\n",
       "      <th>Acurácia</th>\n",
       "    </tr>\n",
       "  </thead>\n",
       "  <tbody>\n",
       "    <tr>\n",
       "      <th>0</th>\n",
       "      <td>Vibracao</td>\n",
       "      <td>STFT</td>\n",
       "      <td>89.46</td>\n",
       "    </tr>\n",
       "    <tr>\n",
       "      <th>1</th>\n",
       "      <td>Vibracao</td>\n",
       "      <td>CWT (RGB)</td>\n",
       "      <td>95.39</td>\n",
       "    </tr>\n",
       "    <tr>\n",
       "      <th>2</th>\n",
       "      <td>Vibracao</td>\n",
       "      <td>CWT (P/B)</td>\n",
       "      <td>88.41</td>\n",
       "    </tr>\n",
       "    <tr>\n",
       "      <th>3</th>\n",
       "      <td>Som</td>\n",
       "      <td>STFT</td>\n",
       "      <td>39.65</td>\n",
       "    </tr>\n",
       "    <tr>\n",
       "      <th>4</th>\n",
       "      <td>Som</td>\n",
       "      <td>CWT (RGB)</td>\n",
       "      <td>88.91</td>\n",
       "    </tr>\n",
       "    <tr>\n",
       "      <th>5</th>\n",
       "      <td>Som</td>\n",
       "      <td>CWT (P/B)</td>\n",
       "      <td>13.04</td>\n",
       "    </tr>\n",
       "  </tbody>\n",
       "</table>\n",
       "</div>"
      ],
      "text/plain": [
       "      Sinal     Imagem  Acurácia\n",
       "0  Vibracao       STFT     89.46\n",
       "1  Vibracao  CWT (RGB)     95.39\n",
       "2  Vibracao  CWT (P/B)     88.41\n",
       "3       Som       STFT     39.65\n",
       "4       Som  CWT (RGB)     88.91\n",
       "5       Som  CWT (P/B)     13.04"
      ]
     },
     "execution_count": 71,
     "metadata": {},
     "output_type": "execute_result"
    }
   ],
   "source": [
    "#df_comp = pd.read_csv(r'C:\\Users\\ksilva\\OneDrive - IPT\\dissertacao_transfer_learning\\planilhas/resultados_comp.csv',sep=';')\n",
    "df_comp[\"Acurácia\"] = df_comp[\"Acurácia\"].astype(float)\n",
    "df_comp"
   ]
  },
  {
   "cell_type": "code",
   "execution_count": 72,
   "id": "876213dd",
   "metadata": {},
   "outputs": [
    {
     "data": {
      "image/png": "[encoded data removed]",
      "text/plain": [
       "<Figure size 432x288 with 1 Axes>"
      ]
     },
     "metadata": {
      "needs_background": "light"
     },
     "output_type": "display_data"
    }
   ],
   "source": [
    "fig, ax = plt.subplots()\n",
    "bars = plt.bar(df_comp.index, df_comp[\"Acurácia\"])\n",
    "\n",
    "# Define cores para as barras\n",
    "cores = ['orange','blue','darkgray','darkorange', 'darkblue', 'gray']\n",
    "\n",
    "# Define rótulos personalizados para o eixo x\n",
    "labels = ['1 - STFT', '2 - CWT', '3 - CWT (P/B)','4 - STFT', '5 - CWT', '6 - CWT (P/B)']\n",
    "\n",
    "# Define rótulos de cores para a legenda\n",
    "legend_labels = [Patch(color='orange', label='1 - STFT (vibracao)'), Patch(color='blue', label='2 - CWT (vibração)'), Patch(color='darkgray', label='3 - CWT P/B (vibração)'),\n",
    "                Patch(color='darkorange', label='4 - STFT (som)'), Patch(color='darkblue', label='5 - CWT (som)'), Patch(color='gray', label='6 - CWT P/B (som)')]\n",
    "\n",
    "for i, bar in enumerate(bars):\n",
    "    bar.set_color(cores[i])\n",
    "\n",
    "# Cria uma legenda de cores\n",
    "plt.legend(handles=legend_labels)\n",
    "\n",
    "# Define os rótulos personalizados no eixo x\n",
    "plt.xticks(range(len(df_comp.index)), labels, rotation=45, fontsize=9)\n",
    "\n",
    "plt.xlabel(\"Configuração de imagem\")\n",
    "plt.ylabel(\"Acurácia (%)\")\n",
    "#plt.title(\"Acurácia para DF->DA igual a 737->857 ou 857->737\")\n",
    "\n",
    "# Define o intervalo do eixo y de 0 a 100\n",
    "plt.yticks(range(0, 101, 10))  # Define os valores do eixo y de 0 a 100 com incremento de 10\n",
    "\n",
    "# ajusta posição da legenda para fora do gráfico\n",
    "plt.legend(handles=legend_labels, bbox_to_anchor=(1.05, 1), loc='upper left')\n",
    "#plt.ylim(0, 100)\n",
    "\n",
    "plt.show()\n"
   ]
  },
  {
   "cell_type": "markdown",
   "id": "b073ce22",
   "metadata": {},
   "source": [
    "# Comparação em baixas velocidades"
   ]
  },
  {
   "cell_type": "code",
   "execution_count": 62,
   "id": "c192b844",
   "metadata": {},
   "outputs": [
    {
     "data": {
      "text/html": [
       "<div>\n",
       "<style scoped>\n",
       "    .dataframe tbody tr th:only-of-type {\n",
       "        vertical-align: middle;\n",
       "    }\n",
       "\n",
       "    .dataframe tbody tr th {\n",
       "        vertical-align: top;\n",
       "    }\n",
       "\n",
       "    .dataframe thead th {\n",
       "        text-align: right;\n",
       "    }\n",
       "</style>\n",
       "<table border=\"1\" class=\"dataframe\">\n",
       "  <thead>\n",
       "    <tr style=\"text-align: right;\">\n",
       "      <th></th>\n",
       "      <th>DF -&gt; DA</th>\n",
       "      <th>Acurácia</th>\n",
       "    </tr>\n",
       "    <tr>\n",
       "      <th>Experimento</th>\n",
       "      <th></th>\n",
       "      <th></th>\n",
       "    </tr>\n",
       "  </thead>\n",
       "  <tbody>\n",
       "    <tr>\n",
       "      <th>Exp10</th>\n",
       "      <td>737 -&gt; 857</td>\n",
       "      <td>95.11</td>\n",
       "    </tr>\n",
       "    <tr>\n",
       "      <th>Exp28</th>\n",
       "      <td>737 -&gt; 857</td>\n",
       "      <td>85.30</td>\n",
       "    </tr>\n",
       "  </tbody>\n",
       "</table>\n",
       "</div>"
      ],
      "text/plain": [
       "               DF -> DA  Acurácia\n",
       "Experimento                      \n",
       "Exp10        737 -> 857     95.11\n",
       "Exp28        737 -> 857     85.30"
      ]
     },
     "execution_count": 62,
     "metadata": {},
     "output_type": "execute_result"
    }
   ],
   "source": [
    "df2 = df.loc[['Exp10', 'Exp28']]\n",
    "df2[\"Acurácia\"] = df2[\"Acurácia\"].str.replace(\",\", \".\").astype(float)\n",
    "df2"
   ]
  },
  {
   "cell_type": "code",
   "execution_count": 75,
   "id": "96d92ed6",
   "metadata": {},
   "outputs": [
    {
     "data": {
      "image/png": "[encoded data removed]",
      "text/plain": [
       "<Figure size 432x288 with 1 Axes>"
      ]
     },
     "metadata": {
      "needs_background": "light"
     },
     "output_type": "display_data"
    }
   ],
   "source": [
    "fig, ax = plt.subplots()\n",
    "bars = plt.bar(df2.index, df2[\"Acurácia\"])\n",
    "\n",
    "# Define cores para as barras\n",
    "cores = ['blue', 'darkblue']\n",
    "\n",
    "# Define rótulos personalizados para o eixo x\n",
    "labels = ['Exp10\\n(737->857 RPM)','Exp28\\n(737->857 RPM)']\n",
    "# Define rótulos de cores para a legenda\n",
    "legend_labels = [Patch(color='blue', label='CWT - Vibração'), Patch(color='darkblue', label='CWT - Som')]\n",
    "\n",
    "for i, bar in enumerate(bars):\n",
    "    bar.set_color(cores[i])\n",
    "\n",
    "# Cria uma legenda de cores\n",
    "plt.legend(handles=legend_labels)\n",
    "\n",
    "# Define os rótulos personalizados no eixo x\n",
    "plt.xticks(range(len(df2.index)), labels, rotation=45, fontsize=9)\n",
    "\n",
    "plt.xlabel(\"Experimento\")\n",
    "plt.ylabel(\"Acurácia (%)\")\n",
    "#plt.title(\"Acurácia para DF->DA igual a 737->857 ou 857->737\")\n",
    "\n",
    "# Define o intervalo do eixo y de 0 a 100\n",
    "plt.yticks(range(0, 101, 10))  # Define os valores do eixo y de 0 a 100 com incremento de 10\n",
    "\n",
    "# ajusta posição da legenda para fora do gráfico\n",
    "plt.legend(handles=legend_labels, bbox_to_anchor=(1.05, 1), loc='upper left')\n",
    "#plt.ylim(0, 100)\n",
    "\n",
    "plt.show()\n"
   ]
  },
  {
   "cell_type": "code",
   "execution_count": null,
   "id": "a2b38445",
   "metadata": {},
   "outputs": [],
   "source": []
  },
  {
   "cell_type": "code",
   "execution_count": null,
   "id": "9f25f71d",
   "metadata": {},
   "outputs": [],
   "source": []
  }
 ],
 "metadata": {
  "kernelspec": {
   "display_name": "Python 3 (ipykernel)",
   "language": "python",
   "name": "python3"
  },
  "language_info": {
   "codemirror_mode": {
    "name": "ipython",
    "version": 3
   },
   "file_extension": ".py",
   "mimetype": "text/x-python",
   "name": "python",
   "nbconvert_exporter": "python",
   "pygments_lexer": "ipython3",
   "version": "3.11.4"
  }
 },
 "nbformat": 4,
 "nbformat_minor": 5
}
